{
 "cells": [
  {
   "cell_type": "markdown",
   "id": "b18455c5",
   "metadata": {},
   "source": [
    "# Major Goal"
   ]
  },
  {
   "cell_type": "markdown",
   "id": "19085042",
   "metadata": {},
   "source": [
    "This project is built based on the other California Housing Price Prediction Project. The dataset used is the same. In the dataset, the variable `median_house_value` and `median_house_age` have a upper bound during the data collection period. Even though they are numerical attributes, the largest number actually means that any number greater than or equal to that number. Our previsouly model is built without dropping these large number. Due to the existence of large number of these number, our model selection and training might be heavily impacted. Therefore, we are interested in what will the finalized model be like after removing the upper bound"
   ]
  },
  {
   "cell_type": "markdown",
   "id": "e72a371f",
   "metadata": {},
   "source": [
    "## Obtain the Data"
   ]
  },
  {
   "cell_type": "code",
   "execution_count": null,
   "id": "25a04a2b",
   "metadata": {},
   "outputs": [],
   "source": [
    "import os\n",
    "import tarfile\n",
    "import urllib.request\n",
    "\n",
    "DOWNLOAD_ROOT = \"https://raw.githubusercontent.com/ageron/handson-ml2/master/\"\n",
    "HOUSING_PATH = os.path.join(\"datasets\", \"housing\")\n",
    "HOUSING_URL = DOWNLOAD_ROOT + \"datasets/housing/housing.tgz\"\n",
    "\n",
    "def fetch_housing_data(housing_url=HOUSING_URL, housing_path=HOUSING_PATH):\n",
    "    if not os.path.isdir(housing_path):\n",
    "        os.makedirs(housing_path)\n",
    "        tgz_path = os.path.join(housing_path, \"housing.tgz\")\n",
    "        urllib.request.urlretrieve(housing_url, tgz_path)\n",
    "        housing_tgz = tarfile.open(tgz_path)\n",
    "        housing_tgz.extractall(path=housing_path)\n",
    "        housing_tgz.close()\n",
    "fetch_housing_data()"
   ]
  },
  {
   "cell_type": "markdown",
   "id": "9038f0a5",
   "metadata": {},
   "source": [
    "## Import Libraries"
   ]
  },
  {
   "cell_type": "code",
   "execution_count": null,
   "id": "2252023f",
   "metadata": {},
   "outputs": [],
   "source": [
    "import pandas as pd\n",
    "import numpy as np\n",
    "from sklearn.model_selection import StratifiedShuffleSplit\n",
    "from matplotlib import pyplot as plt\n",
    "import seaborn as sns\n",
    "import statsmodels.api as sm\n",
    "import pylab\n"
   ]
  }
 ],
 "metadata": {
  "kernelspec": {
   "display_name": "Python 3 (ipykernel)",
   "language": "python",
   "name": "python3"
  },
  "language_info": {
   "codemirror_mode": {
    "name": "ipython",
    "version": 3
   },
   "file_extension": ".py",
   "mimetype": "text/x-python",
   "name": "python",
   "nbconvert_exporter": "python",
   "pygments_lexer": "ipython3",
   "version": "3.9.7"
  }
 },
 "nbformat": 4,
 "nbformat_minor": 5
}
